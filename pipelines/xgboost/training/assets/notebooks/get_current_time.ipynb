{
 "cells": [
  {
   "cell_type": "markdown",
   "metadata": {},
   "source": [
    "# get_current_time\n",
    "\n",
    "## Run this notebook to:\n",
    "Create time stamp for the filter in data ingestion step.  \n",
    "If timestamp is empty, returns current time (UTC+0) in ISO 6801 date format. Otherwise, returns input timestamp.  \n",
    "If the input timestamp is specified, it must follow ISO 6801 date format, which consist of two parts, date and time. For example 2022-01-18T19:00:00.  \n",
    "The date part is mandatory while any missing value in time part will be regarded as zero.\n",
    "\n",
    "## Parameters\n",
    "- timestamp (str): Optional. Empty or a specific timestamp in ISO 8601 format\n",
    "\n",
    "## Return value\n",
    "- (str) A string of current times in ISO 8601 format or a specific timestamp in ISO 8601 format.\n"
   ]
  },
  {
   "cell_type": "code",
   "execution_count": null,
   "metadata": {
    "tags": [
     "parameters"
    ]
   },
   "outputs": [],
   "source": [
    "timestamp: str = \"\""
   ]
  },
  {
   "cell_type": "code",
   "execution_count": null,
   "metadata": {},
   "outputs": [],
   "source": [
    "from datetime import datetime, timezone\n",
    "import logging\n",
    "\n",
    "if not timestamp:\n",
    "    current_time = datetime.now(timezone.utc).isoformat()\n",
    "\n",
    "else:\n",
    "    try:\n",
    "        logging.info(\n",
    "            f\"timestamp in ISO 8601 format: \\\n",
    "            {datetime.fromisoformat(timestamp)}\"\n",
    "        )\n",
    "        current_time = datetime.fromisoformat(timestamp).isoformat()\n",
    "    except ValueError:\n",
    "        raise ValueError(\n",
    "            f\"timestamp is not in correct ISO 6801 format \\\n",
    "                (YYYY-MM-DD or YYYY-MM-DD hh:mm:ss or \\\n",
    "                YYYY-MM-DDThh:mm:ss.sss±hh:mm)\\\n",
    "                or an empty string\"\n",
    "        )"
   ]
  },
  {
   "cell_type": "code",
   "execution_count": null,
   "metadata": {},
   "outputs": [],
   "source": [
    "import scrapbook\n",
    "scrapbook.glue(\"current_time\", current_time)"
   ]
  }
 ],
 "metadata": {
  "kernelspec": {
   "display_name": "Python 3 (ipykernel)",
   "language": "python",
   "name": "python3"
  },
  "language_info": {
   "codemirror_mode": {
    "name": "ipython",
    "version": 3
   },
   "file_extension": ".py",
   "mimetype": "text/x-python",
   "name": "python",
   "nbconvert_exporter": "python",
   "pygments_lexer": "ipython3",
   "version": "3.9.7"
  },
  "vscode": {
   "interpreter": {
    "hash": "9082739a6d7aef52dd1add0dde88e50ad5a15a02f84caf2b0de4c075d2416be6"
   }
  }
 },
 "nbformat": 4,
 "nbformat_minor": 4
}
