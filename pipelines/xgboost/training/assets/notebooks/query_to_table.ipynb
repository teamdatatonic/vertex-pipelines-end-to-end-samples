{
 "cells": [
  {
   "cell_type": "markdown",
   "metadata": {},
   "source": [
    "# query_to_table\n",
    "\n",
    "## Run this notebook to:\n",
    "Run query & create a new BigQuery table.\n",
    "\n",
    "## Parameters\n",
    "- query (str): SQL query to execute, results are saved in a BigQuery table\n",
    "- bq_client_project_id (str): project id that will be used by the bq client\n",
    "- destination_project_id (str): project id where BQ table will be created\n",
    "- dataset_id (str): dataset id where BQ table will be created\n",
    "- table_id (str): table name (without project id and dataset id)\n",
    "- dataset_location (str): bq dataset location\n",
    "- query_job_config (dict): dict containing optional parameters required by the bq query operation. No need to specify destination param. See available parameters [here](https://googleapis.dev/python/bigquery/latest/generated/google.cloud.bigquery.job.QueryJobConfig.html)\n"
   ]
  },
  {
   "cell_type": "code",
   "execution_count": null,
   "metadata": {
    "tags": [
     "parameters"
    ]
   },
   "outputs": [],
   "source": [
    "query: str = \"\"\n",
    "bq_client_project_id: str = \"\"\n",
    "destination_project_id: str = \"\"\n",
    "dataset_id: str = \"\"\n",
    "table_id: str = \"\"\n",
    "dataset_location: str = \"EU\"\n",
    "query_job_config: dict = None"
   ]
  },
  {
   "cell_type": "code",
   "execution_count": null,
   "metadata": {},
   "outputs": [],
   "source": [
    "# Set up environment\n",
    "!pip install google_cloud_bigquery==2.30.0"
   ]
  },
  {
   "cell_type": "code",
   "execution_count": null,
   "metadata": {},
   "outputs": [],
   "source": [
    "from google.cloud.exceptions import GoogleCloudError\n",
    "from google.cloud import bigquery\n",
    "import logging\n",
    "\n",
    "logging.getLogger().setLevel(logging.INFO)\n",
    "\n",
    "if (dataset_id is not None) and (table_id is not None):\n",
    "    dest_table_ref = f\"{destination_project_id}.{dataset_id}.{table_id}\"\n",
    "else:\n",
    "    dest_table_ref = None\n",
    "if query_job_config is None:\n",
    "    query_job_config = {}\n",
    "job_config = bigquery.QueryJobConfig(destination=dest_table_ref, **query_job_config)\n",
    "\n",
    "bq_client = bigquery.client.Client(\n",
    "    project=bq_client_project_id, location=dataset_location\n",
    ")\n",
    "query_job = bq_client.query(query, job_config=job_config)\n",
    "\n",
    "try:\n",
    "    result = query_job.result()\n",
    "    logging.info(f\"BQ table {dest_table_ref} created\")\n",
    "except GoogleCloudError as e:\n",
    "    logging.error(e)\n",
    "    logging.error(query_job.error_result)\n",
    "    logging.error(query_job.errors)\n",
    "    raise e"
   ]
  }
 ],
 "metadata": {
  "kernelspec": {
   "display_name": "Python 3 (ipykernel)",
   "language": "python",
   "name": "python3"
  },
  "language_info": {
   "codemirror_mode": {
    "name": "ipython",
    "version": 3
   },
   "file_extension": ".py",
   "mimetype": "text/x-python",
   "name": "python",
   "nbconvert_exporter": "python",
   "pygments_lexer": "ipython3",
   "version": "3.9.7"
  },
  "vscode": {
   "interpreter": {
    "hash": "9082739a6d7aef52dd1add0dde88e50ad5a15a02f84caf2b0de4c075d2416be6"
   }
  }
 },
 "nbformat": 4,
 "nbformat_minor": 4
}
